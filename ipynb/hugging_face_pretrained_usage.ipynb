{
 "cells": [
  {
   "cell_type": "code",
   "execution_count": 1,
   "id": "4cffa723",
   "metadata": {},
   "outputs": [
    {
     "name": "stdout",
     "output_type": "stream",
     "text": [
      "Collecting transformers==4.11.2\n",
      "  Downloading transformers-4.11.2-py3-none-any.whl (2.9 MB)\n",
      "\u001b[K     |████████████████████████████████| 2.9 MB 226 kB/s eta 0:00:01\n",
      "\u001b[?25hRequirement already satisfied: requests in /home/manju/anaconda3/lib/python3.9/site-packages (from transformers==4.11.2) (2.27.1)\n",
      "Requirement already satisfied: pyyaml>=5.1 in /home/manju/anaconda3/lib/python3.9/site-packages (from transformers==4.11.2) (6.0)\n",
      "Requirement already satisfied: numpy>=1.17 in /home/manju/anaconda3/lib/python3.9/site-packages (from transformers==4.11.2) (1.21.5)\n",
      "Requirement already satisfied: packaging>=20.0 in /home/manju/anaconda3/lib/python3.9/site-packages (from transformers==4.11.2) (21.3)\n",
      "Requirement already satisfied: filelock in /home/manju/anaconda3/lib/python3.9/site-packages (from transformers==4.11.2) (3.6.0)\n",
      "Collecting tokenizers<0.11,>=0.10.1\n",
      "  Downloading tokenizers-0.10.3-cp39-cp39-manylinux_2_5_x86_64.manylinux1_x86_64.manylinux_2_12_x86_64.manylinux2010_x86_64.whl (3.3 MB)\n",
      "\u001b[K     |████████████████████████████████| 3.3 MB 397 kB/s eta 0:00:01\n",
      "\u001b[?25hRequirement already satisfied: sacremoses in /home/manju/anaconda3/lib/python3.9/site-packages (from transformers==4.11.2) (0.0.53)\n",
      "Requirement already satisfied: regex!=2019.12.17 in /home/manju/anaconda3/lib/python3.9/site-packages (from transformers==4.11.2) (2022.3.15)\n",
      "Requirement already satisfied: tqdm>=4.27 in /home/manju/anaconda3/lib/python3.9/site-packages (from transformers==4.11.2) (4.64.0)\n",
      "Requirement already satisfied: huggingface-hub>=0.0.17 in /home/manju/anaconda3/lib/python3.9/site-packages (from transformers==4.11.2) (0.7.0)\n",
      "Requirement already satisfied: typing-extensions>=3.7.4.3 in /home/manju/anaconda3/lib/python3.9/site-packages (from huggingface-hub>=0.0.17->transformers==4.11.2) (4.1.1)\n",
      "Requirement already satisfied: pyparsing!=3.0.5,>=2.0.2 in /home/manju/anaconda3/lib/python3.9/site-packages (from packaging>=20.0->transformers==4.11.2) (3.0.4)\n",
      "Requirement already satisfied: idna<4,>=2.5 in /home/manju/anaconda3/lib/python3.9/site-packages (from requests->transformers==4.11.2) (3.3)\n",
      "Requirement already satisfied: urllib3<1.27,>=1.21.1 in /home/manju/anaconda3/lib/python3.9/site-packages (from requests->transformers==4.11.2) (1.26.9)\n",
      "Requirement already satisfied: charset-normalizer~=2.0.0 in /home/manju/anaconda3/lib/python3.9/site-packages (from requests->transformers==4.11.2) (2.0.4)\n",
      "Requirement already satisfied: certifi>=2017.4.17 in /home/manju/anaconda3/lib/python3.9/site-packages (from requests->transformers==4.11.2) (2022.6.15)\n",
      "Requirement already satisfied: joblib in /home/manju/anaconda3/lib/python3.9/site-packages (from sacremoses->transformers==4.11.2) (1.1.0)\n",
      "Requirement already satisfied: six in /home/manju/anaconda3/lib/python3.9/site-packages (from sacremoses->transformers==4.11.2) (1.16.0)\n",
      "Requirement already satisfied: click in /home/manju/anaconda3/lib/python3.9/site-packages (from sacremoses->transformers==4.11.2) (8.0.4)\n",
      "Installing collected packages: tokenizers, transformers\n",
      "  Attempting uninstall: tokenizers\n",
      "    Found existing installation: tokenizers 0.12.1\n",
      "    Uninstalling tokenizers-0.12.1:\n",
      "      Successfully uninstalled tokenizers-0.12.1\n",
      "  Attempting uninstall: transformers\n",
      "    Found existing installation: transformers 4.20.0\n",
      "    Uninstalling transformers-4.20.0:\n",
      "      Successfully uninstalled transformers-4.20.0\n",
      "Successfully installed tokenizers-0.10.3 transformers-4.11.2\n"
     ]
    }
   ],
   "source": [
    "# install huggingface transformers\n",
    "!pip install transformers==4.11.2"
   ]
  },
  {
   "cell_type": "code",
   "execution_count": 2,
   "id": "90fcaae3",
   "metadata": {},
   "outputs": [
    {
     "data": {
      "application/vnd.jupyter.widget-view+json": {
       "model_id": "e89dfd6901174a5fb93be6ee66548d9b",
       "version_major": 2,
       "version_minor": 0
      },
      "text/plain": [
       "Downloading:   0%|          | 0.00/159 [00:00<?, ?B/s]"
      ]
     },
     "metadata": {},
     "output_type": "display_data"
    },
    {
     "data": {
      "application/vnd.jupyter.widget-view+json": {
       "model_id": "5cc312eff9b4430a84e31571503a5d7b",
       "version_major": 2,
       "version_minor": 0
      },
      "text/plain": [
       "Downloading:   0%|          | 0.00/291 [00:00<?, ?B/s]"
      ]
     },
     "metadata": {},
     "output_type": "display_data"
    },
    {
     "data": {
      "application/vnd.jupyter.widget-view+json": {
       "model_id": "13c67171084c44f889f8fbf6ba91ccdf",
       "version_major": 2,
       "version_minor": 0
      },
      "text/plain": [
       "Downloading:   0%|          | 0.00/163 [00:00<?, ?B/s]"
      ]
     },
     "metadata": {},
     "output_type": "display_data"
    },
    {
     "data": {
      "application/vnd.jupyter.widget-view+json": {
       "model_id": "195a351826bd47afb7fc61ac74176fe7",
       "version_major": 2,
       "version_minor": 0
      },
      "text/plain": [
       "Downloading:   0%|          | 0.00/85.0 [00:00<?, ?B/s]"
      ]
     },
     "metadata": {},
     "output_type": "display_data"
    },
    {
     "data": {
      "application/vnd.jupyter.widget-view+json": {
       "model_id": "2c4d030f5a6347039a4514aa7b1f797e",
       "version_major": 2,
       "version_minor": 0
      },
      "text/plain": [
       "Downloading:   0%|          | 0.00/1.56k [00:00<?, ?B/s]"
      ]
     },
     "metadata": {},
     "output_type": "display_data"
    },
    {
     "data": {
      "application/vnd.jupyter.widget-view+json": {
       "model_id": "a71e818727064855a3f384a3568ce15b",
       "version_major": 2,
       "version_minor": 0
      },
      "text/plain": [
       "Downloading:   0%|          | 0.00/360M [00:00<?, ?B/s]"
      ]
     },
     "metadata": {},
     "output_type": "display_data"
    },
    {
     "name": "stderr",
     "output_type": "stream",
     "text": [
      "Some weights of Wav2Vec2ForCTC were not initialized from the model checkpoint at facebook/wav2vec2-base-960h and are newly initialized: ['wav2vec2.masked_spec_embed']\n",
      "You should probably TRAIN this model on a down-stream task to be able to use it for predictions and inference.\n"
     ]
    }
   ],
   "source": [
    "# load pretrained model\n",
    "from transformers import Wav2Vec2Processor, Wav2Vec2ForCTC\n",
    "asr_processor = Wav2Vec2Processor.from_pretrained(\"facebook/wav2vec2-base-960h\")\n",
    "asr_model = Wav2Vec2ForCTC.from_pretrained(\"facebook/wav2vec2-base-960h\")"
   ]
  },
  {
   "cell_type": "code",
   "execution_count": 4,
   "id": "31c90787",
   "metadata": {},
   "outputs": [
    {
     "name": "stdout",
     "output_type": "stream",
     "text": [
      "--2022-06-19 18:02:43--  https://dldata-public.s3.us-east-2.amazonaws.com/1919-142785-0028.wav\n",
      "Resolving dldata-public.s3.us-east-2.amazonaws.com (dldata-public.s3.us-east-2.amazonaws.com)... 52.219.104.24\n",
      "Connecting to dldata-public.s3.us-east-2.amazonaws.com (dldata-public.s3.us-east-2.amazonaws.com)|52.219.104.24|:443... connected.\n",
      "HTTP request sent, awaiting response... 200 OK\n",
      "Length: 165164 (161K) [audio/wav]\n",
      "Saving to: ‘1919-142785-0028.wav’\n",
      "\n",
      "1919-142785-0028.wa 100%[===================>] 161.29K   218KB/s    in 0.7s    \n",
      "\n",
      "2022-06-19 18:02:45 (218 KB/s) - ‘1919-142785-0028.wav’ saved [165164/165164]\n",
      "\n"
     ]
    }
   ],
   "source": [
    "# get a single audio file\n",
    "!wget https://dldata-public.s3.us-east-2.amazonaws.com/1919-142785-0028.wav"
   ]
  },
  {
   "cell_type": "code",
   "execution_count": 5,
   "id": "3a20bfda",
   "metadata": {},
   "outputs": [
    {
     "name": "stderr",
     "output_type": "stream",
     "text": [
      "/home/manju/anaconda3/lib/python3.9/site-packages/transformers/feature_extraction_utils.py:158: UserWarning: Creating a tensor from a list of numpy.ndarrays is extremely slow. Please consider converting the list to a single numpy.ndarray with numpy.array() before converting to a tensor. (Triggered internally at  ../torch/csrc/utils/tensor_new.cpp:210.)\n",
      "  tensor = as_tensor(value)\n"
     ]
    }
   ],
   "source": [
    "# transcribe audio to logits over characters\n",
    "import soundfile as sf\n",
    "arr, _ = sf.read('1919-142785-0028.wav')\n",
    "input_values = asr_processor(arr, return_tensors=\"pt\", sampling_rate=16000).input_values  # Batch size 1\n",
    "logits = asr_model(input_values).logits.cpu().detach().numpy()[0]"
   ]
  },
  {
   "cell_type": "code",
   "execution_count": 6,
   "id": "a99b1ccb",
   "metadata": {},
   "outputs": [
    {
     "name": "stdout",
     "output_type": "stream",
     "text": [
      "{'<pad>': 0, '<s>': 1, '</s>': 2, '<unk>': 3, '|': 4, 'E': 5, 'T': 6, 'A': 7, 'O': 8, 'N': 9, 'I': 10, 'H': 11, 'S': 12, 'R': 13, 'D': 14, 'L': 15, 'U': 16, 'M': 17, 'W': 18, 'C': 19, 'F': 20, 'G': 21, 'Y': 22, 'P': 23, 'B': 24, 'V': 25, 'K': 26, \"'\": 27, 'X': 28, 'J': 29, 'Q': 30, 'Z': 31}\n"
     ]
    }
   ],
   "source": [
    "# look at the alphabet of our model defining the labels for the logit matrix we just calculated\n",
    "print(asr_processor.tokenizer.get_vocab())"
   ]
  },
  {
   "cell_type": "code",
   "execution_count": 16,
   "id": "28e31ce7",
   "metadata": {},
   "outputs": [
    {
     "name": "stderr",
     "output_type": "stream",
     "text": [
      "Found entries of length > 1 in alphabet. This is unusual unless style is BPE, but the alphabet was not recognized as BPE type. Is this correct?\n"
     ]
    },
    {
     "data": {
      "text/plain": [
       "'BOIL THEM BEFORE THEY ARE PUT INTO THE SOUP OR OTHER DISH THEY MAY BE INTENDED FOR'"
      ]
     },
     "execution_count": 16,
     "metadata": {},
     "output_type": "execute_result"
    }
   ],
   "source": [
    "from pyctcdecode import build_ctcdecoder\n",
    "vocab_list = list(asr_processor.tokenizer.get_vocab())\n",
    "decoder = build_ctcdecoder(vocab_list)\n",
    "decoder.decode(logits)"
   ]
  },
  {
   "cell_type": "code",
   "execution_count": null,
   "id": "04c04c1c",
   "metadata": {},
   "outputs": [],
   "source": []
  }
 ],
 "metadata": {
  "kernelspec": {
   "display_name": "Python 3 (ipykernel)",
   "language": "python",
   "name": "python3"
  },
  "language_info": {
   "codemirror_mode": {
    "name": "ipython",
    "version": 3
   },
   "file_extension": ".py",
   "mimetype": "text/x-python",
   "name": "python",
   "nbconvert_exporter": "python",
   "pygments_lexer": "ipython3",
   "version": "3.9.12"
  }
 },
 "nbformat": 4,
 "nbformat_minor": 5
}
