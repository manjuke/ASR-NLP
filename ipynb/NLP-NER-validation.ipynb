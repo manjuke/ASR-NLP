{
 "cells": [
  {
   "cell_type": "code",
   "execution_count": 11,
   "id": "7b7ac745",
   "metadata": {},
   "outputs": [
    {
     "name": "stdout",
     "output_type": "stream",
     "text": [
      "Transcription analysis: Noun Phrases and Verbs are printed, if there are any NER present in the sentense they will be printed \n",
      "\n",
      "Sentence: \" Set the language\"; Nouns: ['the language']; Verbs: ['set']; \n",
      "Sentence: \" Language settings\"; Nouns: ['Language settings']; Verbs: []; \n",
      "Sentence: \" Set language to Chinese\"; Nouns: ['Set language', 'Chinese']; Verbs: ['set']; NER: Chinese NORP; \n",
      "Sentence: \" Set language to German\"; Nouns: ['Set language']; Verbs: ['set']; NER: German NORP; \n",
      "Sentence: \" Set language to Korean\"; Nouns: ['Set language']; Verbs: ['set']; NER: Korean NORP; \n",
      "Sentence: \" Set language to English\"; Nouns: ['Set language', 'English']; Verbs: ['set']; NER: English LANGUAGE; \n",
      "Sentence: \" Set my device to Chinese\"; Nouns: ['my device', 'Chinese']; Verbs: ['set']; NER: Chinese NORP; \n",
      "Sentence: \" OK now switch the main language to German\"; Nouns: ['the main language']; Verbs: ['switch']; NER: German NORP; \n",
      "Sentence: \" OK now switch the main language to Korean\"; Nouns: ['the main language']; Verbs: ['switch']; NER: Korean NORP; \n",
      "Sentence: \" OK now switch the main language to English\"; Nouns: ['the main language', 'English']; Verbs: ['switch']; NER: English LANGUAGE; \n",
      "Sentence: \" Set my phone's language to Chinese\"; Nouns: [\"my phone's language\", 'Chinese']; Verbs: ['set']; NER: Chinese NORP; \n",
      "Sentence: \" Set my phone's language to German\"; Nouns: [\"my phone's language\"]; Verbs: ['set']; NER: German NORP; \n",
      "Sentence: \" Set my phone's language to Korean\"; Nouns: [\"my phone's language\"]; Verbs: ['set']; NER: Korean NORP; \n",
      "Sentence: \" Set my phone's language to English\"; Nouns: [\"my phone's language\", 'English']; Verbs: ['set']; NER: English LANGUAGE; \n",
      "Sentence: \" I need to practice my Chinese. Switch the language\"; Nouns: ['I', 'my Chinese', 'the language']; Verbs: ['need', 'practice', 'switch']; NER: Chinese NORP; \n",
      "Sentence: \" I need to practice my German. Switch the language\"; Nouns: ['I', 'my German', 'the language']; Verbs: ['need', 'practice', 'switch']; NER: German NORP; NER: Switch the language PERSON; \n",
      "Sentence: \" I need to practice my Korean. Switch the language\"; Nouns: ['I', 'the language']; Verbs: ['need', 'practice', 'switch']; NER: Korean NORP; NER: Switch the language PERSON; \n",
      "Sentence: \" I need to practice my English. Switch the language\"; Nouns: ['I', 'my English', 'the language']; Verbs: ['need', 'practice', 'switch']; NER: English LANGUAGE; \n",
      "Sentence: \" Turn the washroom lights off\"; Nouns: []; Verbs: ['turn', 'light']; \n",
      "Sentence: \" Pause\"; Nouns: ['Pause']; Verbs: []; \n",
      "Sentence: \" Turn on the lights\"; Nouns: ['the lights']; Verbs: ['turn']; \n",
      "Sentence: \" Turn off the lights\"; Nouns: ['the lights']; Verbs: ['turn']; \n",
      "Sentence: \" Change language\"; Nouns: ['Change language']; Verbs: ['change']; \n",
      "Sentence: \" Pause the music\"; Nouns: ['the music']; Verbs: ['pause']; \n",
      "Sentence: \" Resume\"; Nouns: ['Resume']; Verbs: []; "
     ]
    }
   ],
   "source": [
    "import spacy\n",
    "import pandas as pd \n",
    "# Load English tokenizer, tagger, parser and NER\n",
    "nlp = spacy.load(\"en_core_web_sm\")\n",
    "\n",
    "base_path = '/home/manju/Desktop/assign/task_data/'\n",
    "\n",
    "def readInputFile(csv_file):\n",
    "    data = pd.read_csv(csv_file)\n",
    "    transcript = data['transcription']\n",
    "    return transcript\n",
    "\n",
    "def main(base_path):\n",
    "    train_file = base_path + 'train_data.csv'\n",
    "    valid_file = base_path + 'valid_data.csv'\n",
    "\n",
    "    transcript = readInputFile(valid_file)\n",
    "    print(\"Transcription analysis: Noun Phrases and Verbs are printed, if there are any NER present in the sentense they will be printed \")\n",
    "    transcript = transcript[225:250] #Select few sentences randomly for testing\n",
    "    # Process documents one by one\n",
    "    for text in transcript:\n",
    "        doc = nlp(text) \n",
    "    \n",
    "        print(\"\\nSentence: \\\"\", text, end = '\\\"; ')\n",
    "        # Analyze syntax\n",
    "        print(\"Nouns:\", [chunk.text for chunk in doc.noun_chunks], end = '; ')\n",
    "        print(\"Verbs:\", [token.lemma_ for token in doc if token.pos_ == \"VERB\"], end = '; ')\n",
    "\n",
    "        # Find named entities, phrases and concepts    \n",
    "        for entity in doc.ents:\n",
    "            print(\"NER:\",entity.text, entity.label_, end = '; ')   \n",
    "            \n",
    "if __name__ == \"__main__\":\n",
    "    main(base_path)"
   ]
  },
  {
   "cell_type": "code",
   "execution_count": null,
   "id": "f8dbf971",
   "metadata": {},
   "outputs": [],
   "source": []
  }
 ],
 "metadata": {
  "kernelspec": {
   "display_name": "Python 3 (ipykernel)",
   "language": "python",
   "name": "python3"
  },
  "language_info": {
   "codemirror_mode": {
    "name": "ipython",
    "version": 3
   },
   "file_extension": ".py",
   "mimetype": "text/x-python",
   "name": "python",
   "nbconvert_exporter": "python",
   "pygments_lexer": "ipython3",
   "version": "3.9.12"
  }
 },
 "nbformat": 4,
 "nbformat_minor": 5
}
